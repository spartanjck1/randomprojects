{
 "cells": [
  {
   "cell_type": "markdown",
   "id": "563a7107",
   "metadata": {},
   "source": [
    "## Project: Russian Oligarch Problemzz\n",
    "\n",
    "Problem:\n",
    "I am a very rich Russian oligarch and alot of my assets are going to get sanctioned, including alot of my cash.\n",
    "I need to buy property and expensive property, quickly, but i want to be descrete about it.\n",
    "\n",
    "I want to buy a property NY but i need to figure out where to look.\n",
    "\n",
    "I need to look for the following:\n",
    "\n",
    "1. The neighborhood that has the most residential properties over 10m \n",
    "2. The average price of each property type\n",
    "\n",
    "From there I will be able to quickly make an informed decision to quickly buy a property!!"
   ]
  },
  {
   "cell_type": "markdown",
   "id": "707444f4",
   "metadata": {},
   "source": [
    "Steps I will need to answer these two questions:\n",
    "- Download the data and convert it to a list of lists\n",
    "- Isolate all the properties that are single unit residential that are also not commercial\n",
    "- Ensure prices are in float so i can take averages \n",
    "- Create a frequency table for each neighboorhood on properties over 10m\n",
    "- Create a dictionary with the average price of each building class category\n",
    "- Answer question"
   ]
  },
  {
   "cell_type": "markdown",
   "id": "eb3f83de",
   "metadata": {},
   "source": [
    "Step 1: Download the data and convert it to a list of lists"
   ]
  },
  {
   "cell_type": "code",
   "execution_count": 7,
   "id": "b697068b",
   "metadata": {},
   "outputs": [
    {
     "data": {
      "text/plain": [
       "[['',\n",
       "  'BOROUGH',\n",
       "  'NEIGHBORHOOD',\n",
       "  'BUILDING CLASS CATEGORY',\n",
       "  'TAX CLASS AT PRESENT',\n",
       "  'BLOCK',\n",
       "  'LOT',\n",
       "  'EASE-MENT',\n",
       "  'BUILDING CLASS AT PRESENT',\n",
       "  'ADDRESS',\n",
       "  'APARTMENT NUMBER',\n",
       "  'ZIP CODE',\n",
       "  'RESIDENTIAL UNITS',\n",
       "  'COMMERCIAL UNITS',\n",
       "  'TOTAL UNITS',\n",
       "  'LAND SQUARE FEET',\n",
       "  'GROSS SQUARE FEET',\n",
       "  'YEAR BUILT',\n",
       "  'TAX CLASS AT TIME OF SALE',\n",
       "  'BUILDING CLASS AT TIME OF SALE',\n",
       "  'SALE PRICE',\n",
       "  'SALE DATE'],\n",
       " ['4',\n",
       "  '1',\n",
       "  'ALPHABET CITY',\n",
       "  '07 RENTALS - WALKUP APARTMENTS             ',\n",
       "  '2A',\n",
       "  '392',\n",
       "  '6',\n",
       "  ' ',\n",
       "  'C2',\n",
       "  '153 AVENUE B',\n",
       "  ' ',\n",
       "  '10009',\n",
       "  '5',\n",
       "  '0',\n",
       "  '5',\n",
       "  '1633',\n",
       "  '6440',\n",
       "  '1900',\n",
       "  '2',\n",
       "  'C2',\n",
       "  '6625000',\n",
       "  '2017-07-19 00:00:00'],\n",
       " ['5',\n",
       "  '1',\n",
       "  'ALPHABET CITY',\n",
       "  '07 RENTALS - WALKUP APARTMENTS             ',\n",
       "  '2',\n",
       "  '399',\n",
       "  '26',\n",
       "  ' ',\n",
       "  'C7',\n",
       "  '234 EAST 4TH   STREET',\n",
       "  ' ',\n",
       "  '10009',\n",
       "  '28',\n",
       "  '3',\n",
       "  '31',\n",
       "  '4616',\n",
       "  '18690',\n",
       "  '1900',\n",
       "  '2',\n",
       "  'C7',\n",
       "  ' -  ',\n",
       "  '2016-12-14 00:00:00'],\n",
       " ['6',\n",
       "  '1',\n",
       "  'ALPHABET CITY',\n",
       "  '07 RENTALS - WALKUP APARTMENTS             ',\n",
       "  '2',\n",
       "  '399',\n",
       "  '39',\n",
       "  ' ',\n",
       "  'C7',\n",
       "  '197 EAST 3RD   STREET',\n",
       "  ' ',\n",
       "  '10009',\n",
       "  '16',\n",
       "  '1',\n",
       "  '17',\n",
       "  '2212',\n",
       "  '7803',\n",
       "  '1900',\n",
       "  '2',\n",
       "  'C7',\n",
       "  ' -  ',\n",
       "  '2016-12-09 00:00:00'],\n",
       " ['7',\n",
       "  '1',\n",
       "  'ALPHABET CITY',\n",
       "  '07 RENTALS - WALKUP APARTMENTS             ',\n",
       "  '2B',\n",
       "  '402',\n",
       "  '21',\n",
       "  ' ',\n",
       "  'C4',\n",
       "  '154 EAST 7TH STREET',\n",
       "  ' ',\n",
       "  '10009',\n",
       "  '10',\n",
       "  '0',\n",
       "  '10',\n",
       "  '2272',\n",
       "  '6794',\n",
       "  '1913',\n",
       "  '2',\n",
       "  'C4',\n",
       "  '3936272',\n",
       "  '2016-09-23 00:00:00']]"
      ]
     },
     "execution_count": 7,
     "metadata": {},
     "output_type": "execute_result"
    }
   ],
   "source": [
    "opened_file1 = open('nyc-rolling-sales.csv')\n",
    "from csv import reader\n",
    "read_file1 = reader(opened_file1)\n",
    "nycdata = list(read_file1)\n",
    "\n",
    "nycdata[0:5]"
   ]
  },
  {
   "cell_type": "markdown",
   "id": "58425b56",
   "metadata": {},
   "source": [
    "Step 2: Isolate all the properties that are single unit residential that are also not commerical"
   ]
  },
  {
   "cell_type": "code",
   "execution_count": 43,
   "id": "55d1603a",
   "metadata": {},
   "outputs": [
    {
     "data": {
      "text/plain": [
       "34194"
      ]
     },
     "execution_count": 43,
     "metadata": {},
     "output_type": "execute_result"
    }
   ],
   "source": [
    "singleresident = []\n",
    "for row in nycdata[1:]:\n",
    "    totalunit = row[-8]\n",
    "    commercial = row[-9]\n",
    "    residential = row[-10]\n",
    "    if (totalunit == '1') and (commercial == '0') and (residential == '1'):\n",
    "        singleresident.append(row)\n",
    "        \n",
    "len(singleresident)\n"
   ]
  },
  {
   "cell_type": "markdown",
   "id": "889448db",
   "metadata": {},
   "source": [
    "There are 34,000 properties that are single resident, now we need to see how many have a price"
   ]
  },
  {
   "cell_type": "code",
   "execution_count": 8,
   "id": "7c7e9f9b",
   "metadata": {},
   "outputs": [
    {
     "data": {
      "text/plain": [
       "27982"
      ]
     },
     "execution_count": 8,
     "metadata": {},
     "output_type": "execute_result"
    }
   ],
   "source": [
    "pricesinglerez = []\n",
    "for row in singleresident:\n",
    "    price = row[-2]\n",
    "    if price != ' -  ':\n",
    "        pricesinglerez.append(row)\n",
    "        \n",
    "len(pricesinglerez)"
   ]
  },
  {
   "cell_type": "markdown",
   "id": "9de2ea8d",
   "metadata": {},
   "source": [
    "Ok, 28,000 have prices on them. Again, this means we have 28,000 properties across NYC that are single residential properties."
   ]
  },
  {
   "cell_type": "markdown",
   "id": "804039ef",
   "metadata": {},
   "source": [
    "Step 3: Ensure prices are in float so we can work with them"
   ]
  },
  {
   "cell_type": "code",
   "execution_count": 19,
   "id": "28a1f83b",
   "metadata": {},
   "outputs": [],
   "source": [
    "for row in pricesinglerez:\n",
    "    price = int(row[-2])\n",
    "\n",
    "\n",
    "    "
   ]
  },
  {
   "cell_type": "markdown",
   "id": "034c21b4",
   "metadata": {},
   "source": [
    "Step 4: Create a frequency table of properties that are over 10m by neighborhood."
   ]
  },
  {
   "cell_type": "code",
   "execution_count": 23,
   "id": "b7c88481",
   "metadata": {},
   "outputs": [
    {
     "data": {
      "text/plain": [
       "286"
      ]
     },
     "execution_count": 23,
     "metadata": {},
     "output_type": "execute_result"
    }
   ],
   "source": [
    "tenmil_prop = []\n",
    "\n",
    "for row in pricesinglerez:\n",
    "    price = len(row[-2])\n",
    "    target = 8\n",
    "    if price >= target:\n",
    "        tenmil_prop.append(row)\n",
    "\n",
    "len(tenmil_prop)\n",
    " "
   ]
  },
  {
   "cell_type": "markdown",
   "id": "5b32eeb4",
   "metadata": {},
   "source": [
    "Ive done very sneaky here, was getting some level of errors so i figured to count by how many numbers were in price. 8 Digits is over 10m so i did length of the price."
   ]
  },
  {
   "cell_type": "code",
   "execution_count": 27,
   "id": "def681c1",
   "metadata": {},
   "outputs": [
    {
     "data": {
      "text/plain": [
       "{'CHELSEA': 25,\n",
       " 'CIVIC CENTER': 37,\n",
       " 'CLINTON': 1,\n",
       " 'EAST VILLAGE': 1,\n",
       " 'FINANCIAL': 4,\n",
       " 'FLATIRON': 24,\n",
       " 'GRAMERCY': 3,\n",
       " 'GREENWICH VILLAGE-CENTRAL': 6,\n",
       " 'GREENWICH VILLAGE-WEST': 32,\n",
       " 'LITTLE ITALY': 2,\n",
       " 'MIDTOWN CBD': 25,\n",
       " 'MIDTOWN EAST': 2,\n",
       " 'MIDTOWN WEST': 13,\n",
       " 'SOHO': 8,\n",
       " 'TRIBECA': 29,\n",
       " 'UPPER EAST SIDE (59-79)': 18,\n",
       " 'UPPER EAST SIDE (79-96)': 17,\n",
       " 'UPPER WEST SIDE (59-79)': 25,\n",
       " 'UPPER WEST SIDE (79-96)': 5,\n",
       " 'MORRISANIA/LONGWOOD': 1,\n",
       " 'BROOKLYN HEIGHTS': 3,\n",
       " 'DOWNTOWN-FULTON FERRY': 1,\n",
       " 'DOWNTOWN-FULTON MALL': 1,\n",
       " 'PARK SLOPE': 1,\n",
       " 'TOTTENVILLE': 1,\n",
       " 'TRAVIS': 1}"
      ]
     },
     "execution_count": 27,
     "metadata": {},
     "output_type": "execute_result"
    }
   ],
   "source": [
    "hood_dic = {}\n",
    "\n",
    "for row in tenmil_prop:\n",
    "    hood = row[2]\n",
    "    if hood in hood_dic:\n",
    "        hood_dic[hood] += 1\n",
    "    else:\n",
    "        hood_dic[hood] = 1 \n",
    "hood_dic\n",
    "\n"
   ]
  },
  {
   "cell_type": "markdown",
   "id": "2d26f4f3",
   "metadata": {},
   "source": [
    "Sort from most to least"
   ]
  },
  {
   "cell_type": "code",
   "execution_count": 31,
   "id": "145e6036",
   "metadata": {},
   "outputs": [
    {
     "data": {
      "text/plain": [
       "[('CIVIC CENTER', 37),\n",
       " ('GREENWICH VILLAGE-WEST', 32),\n",
       " ('TRIBECA', 29),\n",
       " ('CHELSEA', 25),\n",
       " ('MIDTOWN CBD', 25),\n",
       " ('UPPER WEST SIDE (59-79)', 25),\n",
       " ('FLATIRON', 24),\n",
       " ('UPPER EAST SIDE (59-79)', 18),\n",
       " ('UPPER EAST SIDE (79-96)', 17),\n",
       " ('MIDTOWN WEST', 13),\n",
       " ('SOHO', 8),\n",
       " ('GREENWICH VILLAGE-CENTRAL', 6),\n",
       " ('UPPER WEST SIDE (79-96)', 5),\n",
       " ('FINANCIAL', 4),\n",
       " ('GRAMERCY', 3),\n",
       " ('BROOKLYN HEIGHTS', 3),\n",
       " ('LITTLE ITALY', 2),\n",
       " ('MIDTOWN EAST', 2),\n",
       " ('CLINTON', 1),\n",
       " ('EAST VILLAGE', 1),\n",
       " ('MORRISANIA/LONGWOOD', 1),\n",
       " ('DOWNTOWN-FULTON FERRY', 1),\n",
       " ('DOWNTOWN-FULTON MALL', 1),\n",
       " ('PARK SLOPE', 1),\n",
       " ('TOTTENVILLE', 1),\n",
       " ('TRAVIS', 1)]"
      ]
     },
     "execution_count": 31,
     "metadata": {},
     "output_type": "execute_result"
    }
   ],
   "source": [
    "sorted_hood_dic = sorted(hood_dic.items() , key=lambda item: item[1], reverse=True)\n",
    "sorted_hood_dic"
   ]
  },
  {
   "cell_type": "markdown",
   "id": "dc04aa7c",
   "metadata": {},
   "source": [
    "Ok so looks like Civic center  has the most 10m apartments. Ill buy there."
   ]
  },
  {
   "cell_type": "markdown",
   "id": "c195d159",
   "metadata": {},
   "source": [
    "Step 5: Find the average price for each unit type in Civic center, whatever is highest I will try to find something like that."
   ]
  },
  {
   "cell_type": "markdown",
   "id": "65c1d1c3",
   "metadata": {},
   "source": [
    "Create a frequency table for the types of units in Civic center"
   ]
  },
  {
   "cell_type": "code",
   "execution_count": 34,
   "id": "d2999c88",
   "metadata": {},
   "outputs": [
    {
     "data": {
      "text/plain": [
       "{'13 CONDOS - ELEVATOR APARTMENTS            ': 252,\n",
       " '15 CONDOS - 2-10 UNIT RESIDENTIAL          ': 8,\n",
       " '04 TAX CLASS 1 CONDOS                      ': 1,\n",
       " '01 ONE FAMILY DWELLINGS                    ': 24,\n",
       " '26 OTHER HOTELS                            ': 1}"
      ]
     },
     "execution_count": 34,
     "metadata": {},
     "output_type": "execute_result"
    }
   ],
   "source": [
    "civic_center_types = {}\n",
    "\n",
    "for row in tenmil_prop:\n",
    "    hood = row[2]\n",
    "    building = row[3]\n",
    "    if building in civic_center_types:\n",
    "        civic_center_types[building] += 1\n",
    "    else:\n",
    "        civic_center_types[building] = 1 \n",
    "    \n",
    "civic_center_types"
   ]
  },
  {
   "cell_type": "markdown",
   "id": "80596c4d",
   "metadata": {},
   "source": [
    "Ok, this is the break down of building types in civic center that are over 10m. Lets find the average price for each."
   ]
  },
  {
   "cell_type": "code",
   "execution_count": 46,
   "id": "c98c6985",
   "metadata": {},
   "outputs": [
    {
     "name": "stdout",
     "output_type": "stream",
     "text": [
      "13 CONDOS - ELEVATOR APARTMENTS             18811302.845238097\n",
      "15 CONDOS - 2-10 UNIT RESIDENTIAL           14800733.375\n",
      "04 TAX CLASS 1 CONDOS                       13600000.0\n",
      "01 ONE FAMILY DWELLINGS                     17375570.75\n",
      "26 OTHER HOTELS                             11700000.0\n"
     ]
    }
   ],
   "source": [
    "for building in civic_center_types:\n",
    "    total = 0\n",
    "    len_category = 0\n",
    "    for row in tenmil_prop:\n",
    "        build_type = row[3]\n",
    "        if build_type == building:\n",
    "            total_price = row[-2]\n",
    "            total += float(total_price)\n",
    "            len_category += 1\n",
    "    average = total / len_category\n",
    "    print(building, average)"
   ]
  },
  {
   "cell_type": "markdown",
   "id": "e6c0835a",
   "metadata": {},
   "source": [
    "By the looks of it, the highest average price of Civic Center property types is 18.8 million, which is Condos with elevator apartments. "
   ]
  },
  {
   "cell_type": "markdown",
   "id": "4722ad80",
   "metadata": {},
   "source": [
    "## Conclusion and Findings:\n",
    "\n",
    "Concluding Advice:\n",
    "\n",
    "- Look to buy a Condo property with Elevator apartments in Civic Center.\n",
    "\n",
    "Explanation:\n",
    "- These are very common in civic center, there are over 252. This is the least sus way to spend the most money as its common in this area. Good luck!"
   ]
  }
 ],
 "metadata": {
  "kernelspec": {
   "display_name": "Python 3 (ipykernel)",
   "language": "python",
   "name": "python3"
  },
  "language_info": {
   "codemirror_mode": {
    "name": "ipython",
    "version": 3
   },
   "file_extension": ".py",
   "mimetype": "text/x-python",
   "name": "python",
   "nbconvert_exporter": "python",
   "pygments_lexer": "ipython3",
   "version": "3.9.12"
  }
 },
 "nbformat": 4,
 "nbformat_minor": 5
}
